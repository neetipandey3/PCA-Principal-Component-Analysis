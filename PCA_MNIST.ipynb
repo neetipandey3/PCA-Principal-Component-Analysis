{
 "cells": [
  {
   "cell_type": "code",
   "execution_count": null,
   "metadata": {
    "collapsed": true
   },
   "outputs": [],
   "source": [
    "import numpy as np\n",
    "import matplotlib.pyplot as plt\n",
    "from sklearn.decomposition import RandomizedPCA\n",
    "from sklearn.datasets import fetch_mldata\n",
    "from sklearn.utils import shuffle\n",
    "\n",
    "            "
   ]
  },
  {
   "cell_type": "heading",
   "metadata": {},
   "level": 5,
   "source": [
    "Using all the digits\t\t\t\t\t"
   ]
  },
  {
   "cell_type": "code",
   "execution_count": null,
   "metadata": {},
   "outputs": [],
   "source": [
    "#using all digits\n",
    "mnist = fetch_mldata(\"MNIST original\")\n",
    "X_train, y_train = mnist.data[:70000] / 255., mnist.target[:70000]\n",
    "\n",
    "\n",
    "pca = RandomizedPCA(n_components=2)\n",
    "fig, plot = plt.subplots()\n",
    "fig.set_size_inches(50, 50)\n",
    "plt.prism()\n",
    "\n",
    "X_transformed = pca.fit_transform(X_train)\n",
    "plot.scatter(X_transformed[:, 0], X_transformed[:, 1], c=y_train)\n",
    "plot.set_xticks(())\n",
    "plot.set_yticks(())\n",
    "\n",
    "plt.tight_layout()\n",
    "plt.savefig(\"mnist_pca.png\")"
   ]
  }
 ],
 "metadata": {
  "kernelspec": {
   "display_name": "Python 2",
   "language": "python",
   "name": "python2"
  },
  "language_info": {
   "codemirror_mode": {
    "name": "ipython",
    "version": 2
   },
   "file_extension": ".py",
   "mimetype": "text/x-python",
   "name": "python",
   "nbconvert_exporter": "python",
   "pygments_lexer": "ipython2",
   "version": "2.7.6"
  }
 },
 "nbformat": 4,
 "nbformat_minor": 0
}
